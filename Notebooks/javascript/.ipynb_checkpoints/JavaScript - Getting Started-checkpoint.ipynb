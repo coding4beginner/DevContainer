{
 "cells": [
  {
   "cell_type": "code",
   "execution_count": 1,
   "id": "63978cb2-dce7-4f29-b2ba-9607060d9430",
   "metadata": {},
   "outputs": [
    {
     "name": "stdout",
     "output_type": "stream",
     "text": [
      "Hello World!\n"
     ]
    }
   ],
   "source": [
    "console.log(\"Hello World!\");"
   ]
  },
  {
   "cell_type": "code",
   "execution_count": 5,
   "id": "61561d10-afff-4c64-92fc-8b8e4cf5f98e",
   "metadata": {},
   "outputs": [
    {
     "ename": "SyntaxError",
     "evalue": "Identifier 'admin' has already been declared",
     "execution_count": 5,
     "output_type": "error",
     "traceback": [
      "evalmachine.<anonymous>:1",
      "var admin, name;",
      "^",
      "",
      "SyntaxError: Identifier 'admin' has already been declared",
      "    at evalmachine.<anonymous>:1:1",
      "    at Script.runInThisContext (node:vm:136:12)",
      "    at Object.runInThisContext (node:vm:316:38)",
      "    at run ([eval]:1020:15)",
      "    at onRunRequest ([eval]:864:18)",
      "    at onMessage ([eval]:828:13)",
      "    at process.emit (node:events:518:28)",
      "    at emit (node:internal/child_process:951:14)",
      "    at process.processTicksAndRejections (node:internal/process/task_queues:83:21)"
     ]
    }
   ],
   "source": [
    "var admin, name;\n",
    "\n",
    "name = \"John\";\n",
    "admin = name;\n",
    "\n",
    "console.log(\"name =\", name);\n",
    "console.log(\"admin=\", admin);"
   ]
  },
  {
   "cell_type": "code",
   "execution_count": null,
   "id": "32224b68-7ba1-47cc-ab10-e21d81b973db",
   "metadata": {},
   "outputs": [],
   "source": []
  }
 ],
 "metadata": {
  "kernelspec": {
   "display_name": "JavaScript (Node.js)",
   "language": "javascript",
   "name": "javascript"
  },
  "language_info": {
   "file_extension": ".js",
   "mimetype": "application/javascript",
   "name": "javascript",
   "version": "20.12.2"
  }
 },
 "nbformat": 4,
 "nbformat_minor": 5
}
