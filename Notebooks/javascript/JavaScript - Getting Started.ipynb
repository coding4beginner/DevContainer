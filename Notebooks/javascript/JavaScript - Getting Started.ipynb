{
 "cells": [
  {
   "cell_type": "code",
   "execution_count": 6,
   "id": "63978cb2-dce7-4f29-b2ba-9607060d9430",
   "metadata": {},
   "outputs": [
    {
     "name": "stdout",
     "output_type": "stream",
     "text": [
      "Hello World!\n"
     ]
    }
   ],
   "source": [
    "console.log(\"Hello World!\");"
   ]
  },
  {
   "cell_type": "code",
   "execution_count": 8,
   "id": "61561d10-afff-4c64-92fc-8b8e4cf5f98e",
   "metadata": {},
   "outputs": [
    {
     "name": "stdout",
     "output_type": "stream",
     "text": [
      "name = John\n",
      "admin= John\n"
     ]
    }
   ],
   "source": [
    "var admin, name;\n",
    "\n",
    "name = \"John\";\n",
    "admin = name;\n",
    "\n",
    "console.log(\"name =\", name);\n",
    "console.log(\"admin=\", admin);"
   ]
  },
  {
   "cell_type": "code",
   "execution_count": null,
   "id": "32224b68-7ba1-47cc-ab10-e21d81b973db",
   "metadata": {},
   "outputs": [],
   "source": []
  }
 ],
 "metadata": {
  "kernelspec": {
   "display_name": "JavaScript (Node.js)",
   "language": "javascript",
   "name": "javascript"
  },
  "language_info": {
   "file_extension": ".js",
   "mimetype": "application/javascript",
   "name": "javascript",
   "version": "20.12.2"
  }
 },
 "nbformat": 4,
 "nbformat_minor": 5
}
